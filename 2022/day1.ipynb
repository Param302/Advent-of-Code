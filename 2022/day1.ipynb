{
 "cells": [
  {
   "attachments": {},
   "cell_type": "markdown",
   "metadata": {},
   "source": [
    "# Advent of Code - 2022 [🔗](https://adventofcode.com/2022/)\n",
    "\n",
    "### Theme:\n",
    "\n",
    "*Santa's reindeer typically eat regular reindeer food, but they need a lot of magical energy to deliver presents on Christmas. For that, their favorite snack is a special type of star fruit that only grows deep in the jungle. The Elves have brought you on their annual expedition to the grove where the fruit grows.*\n",
    "\n",
    "*To supply enough magical energy, the expedition needs to retrieve a minimum of fifty stars by December 25th. Although the Elves assure you that the grove has plenty of fruit, you decide to grab any fruit you see along the way, just in case.*\n",
    "\n",
    "*Collect stars by solving puzzles. Two puzzles will be made available on each day in the Advent calendar; the second puzzle is unlocked when you complete the first. Each puzzle grants one star. Good luck!*"
   ]
  },
  {
   "attachments": {},
   "cell_type": "markdown",
   "metadata": {},
   "source": [
    "## Day 1: Calorie Counting [🔗](https://adventofcode.com/2022/day/1)\n",
    "\n",
    "### part 1:\n",
    "The jungle must be too overgrown and difficult to navigate in vehicles or access from the air; the Elves' expedition traditionally goes on foot. As your boats approach land, the Elves begin taking inventory of their supplies. One important consideration is food - in particular, the number of Calories each Elf is carrying (your puzzle input).\n",
    "\n",
    "The Elves take turns writing down the number of **Calories** contained by the various meals, snacks, rations, etc. that they've brought with them, one item per line. Each Elf separates their own inventory from the previous Elf's inventory (if any) by a blank line.\n",
    "\n",
    "<style>\n",
    "    pre {\n",
    "        display: inline;\n",
    "    }\n",
    "</style>\n",
    "<details>\n",
    "    <summary> <font size='5' color=\"#00EEFF\">For example</font> </summary>\n",
    "    <h5>Suppose the Elves finish writing their items' Calories and end up with the following list:</h5>\n",
    "    <pre>1000\n",
    "2000\n",
    "3000\n",
    "\n",
    "4000\n",
    "\n",
    "5000\n",
    "6000\n",
    "\n",
    "7000\n",
    "8000\n",
    "9000\n",
    "\n",
    "10000</pre>\n",
    "    <p>This list represents the Calories of the food carried by five Elves:</p>\n",
    "    <ul>\n",
    "        <li>The first Elf is carrying food with <pre>1000</pre>, <pre>2000</pre>, and <pre>3000</pre> Calories, a total of <pre>6000</pre> Calories.</li>\n",
    "        <li>The second Elf is carrying one food item with <pre>4000</pre> Calories.</li>\n",
    "        <li>The third Elf is carrying food with <pre>5000</pre> and <pre>6000</pre> Calories, a total of <pre>11000</pre> Calories.</li>\n",
    "        <li>The fourth Elf is carrying food with <pre>7000</pre>, <pre>8000</pre>, and <pre>9000</pre> Calories, a total of <pre>24000</pre> Calories.</li>\n",
    "        <li>The fifth Elf is carrying one food item with <pre>10000</pre> Calories.</li>\n",
    "    </ul>\n",
    "    <p>In case the Elves get hungry and need extra snacks, they need to know which Elf to ask: they'd like to know how many Calories are being carried by the Elf carrying the <b>most</b> Calories. In the example above, this is <pre>24000</pre> (carried by the fourth Elf).</p>\n",
    "</details><br/>\n",
    "\n",
    "> #### Question:\n",
    "> *Find the Elf carrying the most Calories. **How many total Calories is that Elf carrying?***\n",
    "\n",
    "### part 2:\n",
    "By the time you calculate the answer to the Elves' question, they've already realized that the Elf carrying the most Calories of food might eventually **run out of snacks.**\n",
    "\n",
    "To avoid this unacceptable situation, the Elves would instead like to know the total Calories carried by the **top three** Elves carrying the most Calories. That way, even if one of those Elves runs out of snacks, they still have two backups.\n",
    "\n",
    "In the example above, the top three Elves are the fourth Elf (with `24000` Calories), then the third Elf (with `11000` Calories), then the fifth Elf (with `10000` Calories). The sum of the Calories carried by these three elves is **`45000`**.\n",
    "\n",
    "> #### Question:\n",
    "> *Find the top three Elves carrying the most Calories. **How many Calories are those Elves carrying in total?***"
   ]
  },
  {
   "attachments": {},
   "cell_type": "markdown",
   "metadata": {},
   "source": [
    "#### Importing input data"
   ]
  },
  {
   "cell_type": "code",
   "execution_count": 1,
   "metadata": {},
   "outputs": [],
   "source": [
    "with open(\"./inputs/day1.txt\") as f:\n",
    "    raw_data = f.readlines()"
   ]
  },
  {
   "attachments": {},
   "cell_type": "markdown",
   "metadata": {},
   "source": [
    "#### Main code"
   ]
  },
  {
   "cell_type": "code",
   "execution_count": 2,
   "metadata": {},
   "outputs": [],
   "source": [
    "def cummulate_calories(calories):\n",
    "\n",
    "    cummulative_calories = []\n",
    "    s = 0\n",
    "    for i in calories:\n",
    "        if i!=\"\\n\":\n",
    "            s += int(i[:-1])\n",
    "        else:\n",
    "            cummulative_calories.append(s)\n",
    "            s = 0\n",
    "    \n",
    "    return cummulative_calories"
   ]
  },
  {
   "cell_type": "code",
   "execution_count": 3,
   "metadata": {},
   "outputs": [],
   "source": [
    "# adding extra newline to include last calorie\n",
    "raw_data.append(\"\\n\")\n",
    "\n",
    "calories = cummulate_calories(raw_data)\n",
    "calories.sort(reverse=True)"
   ]
  },
  {
   "cell_type": "code",
   "execution_count": 4,
   "metadata": {},
   "outputs": [
    {
     "name": "stdout",
     "output_type": "stream",
     "text": [
      "1st part solution - 65912\n",
      "2nd part solution - 195625\n"
     ]
    }
   ],
   "source": [
    "# 1st part: Highest no. of calories carried by an Elf\n",
    "print(f\"1st part solution - {calories[0]}\")\n",
    "\n",
    "# 2nd part: Total calories carried by top 3 Elves\n",
    "print(f\"2nd part solution - {sum(calories[:3])}\")"
   ]
  }
 ],
 "metadata": {
  "kernelspec": {
   "display_name": "Python 3.10.2 ('env': venv)",
   "language": "python",
   "name": "python3"
  },
  "language_info": {
   "codemirror_mode": {
    "name": "ipython",
    "version": 3
   },
   "file_extension": ".py",
   "mimetype": "text/x-python",
   "name": "python",
   "nbconvert_exporter": "python",
   "pygments_lexer": "ipython3",
   "version": "3.10.2"
  },
  "orig_nbformat": 4,
  "vscode": {
   "interpreter": {
    "hash": "2f07d7cca6c58d4ebf04232bbd8a135de9622116acb8031ba94e0fd890a7151f"
   }
  }
 },
 "nbformat": 4,
 "nbformat_minor": 2
}

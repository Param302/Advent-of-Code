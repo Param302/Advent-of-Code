{
 "cells": [
  {
   "attachments": {},
   "cell_type": "markdown",
   "metadata": {},
   "source": [
    "# Advent of Code - 2022 [🔗](https://adventofcode.com/2022/)\n",
    "\n",
    "### Theme:\n",
    "\n",
    "*Santa's reindeer typically eat regular reindeer food, but they need a lot of magical energy to deliver presents on Christmas. For that, their favorite snack is a special type of star fruit that only grows deep in the jungle. The Elves have brought you on their annual expedition to the grove where the fruit grows.*\n",
    "\n",
    "*To supply enough magical energy, the expedition needs to retrieve a minimum of fifty stars by December 25th. Although the Elves assure you that the grove has plenty of fruit, you decide to grab any fruit you see along the way, just in case.*\n",
    "\n",
    "*Collect stars by solving puzzles. Two puzzles will be made available on each day in the Advent calendar; the second puzzle is unlocked when you complete the first. Each puzzle grants one star. Good luck!*"
   ]
  },
  {
   "attachments": {},
   "cell_type": "markdown",
   "metadata": {},
   "source": [
    "## Day 2: Rock Paper Scissors [🔗](https://adventofcode.com/2022/day/2)\n",
    "\n",
    "### part 1:\n",
    "\n",
    "The Elves begin to set up camp on the beach. To decide whose tent gets to be closest to the snack storage, a giant Rock Paper Scissors tournament is already in progress.\n",
    "\n",
    "Rock Paper Scissors is a game between two players. Each game contains many rounds; in each round, the players each simultaneously choose one of Rock, Paper, or Scissors using a hand shape. Then, a winner for that round is selected: Rock defeats Scissors, Scissors defeats Paper, and Paper defeats Rock. If both players choose the same shape, the round instead ends in a draw.\n",
    "\n",
    "Appreciative of your help yesterday, one Elf gives you an **encrypted strategy guide** (your puzzle input) that they say will be sure to help you win. \"The first column is what your opponent is going to play: A for Rock, B for Paper, and C for Scissors. The second column--\" Suddenly, the Elf is called away to help with someone's tent.\n",
    "\n",
    "The second column, you reason, must be what you should play in response: X for Rock, Y for Paper, and Z for Scissors. Winning every time would be suspicious, so the responses must have been carefully chosen.\n",
    "\n",
    "The winner of the whole tournament is the player with the highest score. Your **total score** is the sum of your scores for each round. The score for a single round is the score for the **shape you selected** (`1` for Rock, `2` for Paper, and `3` for Scissors) plus the score for the outcome of the round (`0` if you lost, `3` if the round was a draw, and `6` if you won).\n",
    "\n",
    "Since you can't be sure if the Elf is trying to help you or trick you, you should calculate the score you would get if you were to follow the strategy guide.\n",
    "\n",
    "---\n",
    "\n",
    "<style>\n",
    "    pre {\n",
    "        display: inline;\n",
    "    }\n",
    "</style>\n",
    "<details>\n",
    "    <summary> <font size='5' color=\"#00EEFF\">For example</font> </summary>\n",
    "    <h5>Suppose you were given the following strategy guide:</h5>\n",
    "    <pre>A Y\n",
    "B X\n",
    "C Z</pre>\n",
    "    <p>This strategy guid predicts and recommends the following:</p>\n",
    "    <ul>\n",
    "        <li>In the first round, your opponent will choose Rock (<pre>A</pre>), and you should choose Paper (<pre>Y</pre>). This ends in a win for you with a score of <pre>8</pre> (<pre>2</pre> because you chose Paper + <pre>6</pre> because you won).</li>\n",
    "        <li>In the second round, your opponent will choose Paper (<pre>B</pre>), and you should choose Rock (<pre>X</pre>). This ends in a loss for you with a score of <pre>1</pre> (<pre>1</pre> + <pre>0</pre>).</li>\n",
    "        <li>The third round is a draw with both players choosing Scissors, giving you a score of <pre>3 + 3 = 6</pre>.</li>\n",
    "    </ul>\n",
    "    <p>In this example, if you were to follow the strategy guide, you would get a total score of <pre>15 (8 + 1 + 6)</pre></p>\n",
    "</details></br>\n",
    "\n",
    "> #### Question:\n",
    "> ***What would your total score be if everything goes exactly according to your strategy guide?***\n",
    "\n",
    "---\n",
    "\n",
    "### part 2:\n",
    "The Elf finishes helping with the tent and sneaks back over to you. \"Anyway, the second column says how the round needs to end: X means you need to lose, Y means you need to end the round in a draw, and Z means you need to win. Good luck!\"\n",
    "\n",
    "The total score is still calculated in the same way, but now you need to figure out what shape to choose so the round ends as indicated. The example above now goes like this:\n",
    "\n",
    "- In the first round, your opponent will choose Rock (`A`), and you need the round to end in a draw (`Y`), so you also choose Rock. This gives you a score of `1 + 3 = 4`.\n",
    "- In the second round, your opponent will choose Paper (`B`), and you choose Rock so you lose (`X`) with a score of `1 + 0 = 1`.\n",
    "- In the third round, you will defeat your opponent's Scissors with Rock for a score of `1 + 6 = 7`.\n",
    "\n",
    "Now that you're correctly decrypting the ultra top secret strategy guide, you would get a total score of **`12`**.\n",
    "\n",
    "> #### Question:\n",
    "> *Following the Elf's instructions for the second column, **what would your total score be if everything goes exactly according to your strategy guide?***"
   ]
  },
  {
   "attachments": {},
   "cell_type": "markdown",
   "metadata": {},
   "source": [
    "#### Importing input data"
   ]
  },
  {
   "cell_type": "code",
   "execution_count": 1,
   "metadata": {},
   "outputs": [],
   "source": [
    "with open(\"./inputs/day2.txt\") as f:\n",
    "    data = f.readlines()"
   ]
  },
  {
   "cell_type": "code",
   "execution_count": 2,
   "metadata": {},
   "outputs": [],
   "source": [
    "draws = {\n",
    "    \"A\": \"X\",     # rock\n",
    "    \"B\": \"Y\",     # paper\n",
    "    \"C\": \"Z\"      # scissors\n",
    "}\n",
    "\n",
    "scores = {\n",
    "    \"X\": 1,\n",
    "    \"Y\": 2,\n",
    "    \"Z\": 3\n",
    "}\n",
    "\n",
    "correct_choices = {\n",
    "    \"A\": \"Y\",\n",
    "    \"B\": \"Z\",\n",
    "    \"C\": \"X\"\n",
    "}\n",
    "\n",
    "wrong_choices = {\n",
    "    \"A\": \"Z\",\n",
    "    \"B\": \"X\",\n",
    "    \"C\": \"Y\"\n",
    "}"
   ]
  },
  {
   "attachments": {},
   "cell_type": "markdown",
   "metadata": {},
   "source": [
    "#### scores of outcomes\n",
    "- 0 -> loose\n",
    "- 3 -> draw\n",
    "- 6 -> won"
   ]
  },
  {
   "attachments": {},
   "cell_type": "markdown",
   "metadata": {},
   "source": [
    "##### part 1 code:\n",
    "- The score for a single round is the score for the **shape you selected** (`1` for Rock, `2` for Paper, and `3` for Scissors) plus the score for the **outcome of the round** (`0` if you *lost*, `3` if the round was a *draw*, and `6` if you *won*)."
   ]
  },
  {
   "cell_type": "code",
   "execution_count": 3,
   "metadata": {},
   "outputs": [],
   "source": [
    "def part_1(all_rounds):\n",
    "    score = 0\n",
    "    for round in all_rounds:\n",
    "        opponent, mine = round.split()\n",
    "\n",
    "        if draws[opponent]==mine:\n",
    "            score += 3 + scores[mine]\n",
    "        elif correct_choices[opponent] == mine:\n",
    "            score += 6 + scores[mine]\n",
    "        else:   # wrong choice\n",
    "            score += scores[mine]\n",
    "    \n",
    "    return score"
   ]
  },
  {
   "cell_type": "code",
   "execution_count": 4,
   "metadata": {},
   "outputs": [
    {
     "name": "stdout",
     "output_type": "stream",
     "text": [
      "1st part solution - 15691\n"
     ]
    }
   ],
   "source": [
    "part_1_answer = part_1(data)\n",
    "print(f\"1st part solution - {part_1_answer}\")"
   ]
  },
  {
   "attachments": {},
   "cell_type": "markdown",
   "metadata": {},
   "source": [
    "#### part 2 code:\n",
    "- `X` means you need to *lose*, `Y` means you need to end the round in a *draw*, and `Z` means you need to *win*."
   ]
  },
  {
   "cell_type": "code",
   "execution_count": 5,
   "metadata": {},
   "outputs": [],
   "source": [
    "tweaked_scores = {\n",
    "    \"X\": 0,\n",
    "    \"Y\": 3,\n",
    "    \"Z\": 6\n",
    "}"
   ]
  },
  {
   "cell_type": "code",
   "execution_count": 6,
   "metadata": {},
   "outputs": [],
   "source": [
    "def part_2(all_rounds):\n",
    "    score = 0\n",
    "    for round in all_rounds:\n",
    "        opponent, mine = round.split()\n",
    "\n",
    "        if mine==\"Y\":\n",
    "            choose = draws[opponent]\n",
    "        elif mine==\"Z\":\n",
    "            choose = correct_choices[opponent]\n",
    "        else:\n",
    "            choose = wrong_choices[opponent]\n",
    "\n",
    "        score += tweaked_scores[mine] + scores[choose]\n",
    "    \n",
    "    return score"
   ]
  },
  {
   "cell_type": "code",
   "execution_count": 7,
   "metadata": {},
   "outputs": [
    {
     "name": "stdout",
     "output_type": "stream",
     "text": [
      "2nd part solution - 12989\n"
     ]
    }
   ],
   "source": [
    "part_2_answer = part_2(data)\n",
    "print(f\"2nd part solution - {part_2_answer}\")"
   ]
  }
 ],
 "metadata": {
  "kernelspec": {
   "display_name": "Python 3.10.2 ('env': venv)",
   "language": "python",
   "name": "python3"
  },
  "language_info": {
   "codemirror_mode": {
    "name": "ipython",
    "version": 3
   },
   "file_extension": ".py",
   "mimetype": "text/x-python",
   "name": "python",
   "nbconvert_exporter": "python",
   "pygments_lexer": "ipython3",
   "version": "3.10.2"
  },
  "orig_nbformat": 4,
  "vscode": {
   "interpreter": {
    "hash": "2f07d7cca6c58d4ebf04232bbd8a135de9622116acb8031ba94e0fd890a7151f"
   }
  }
 },
 "nbformat": 4,
 "nbformat_minor": 2
}

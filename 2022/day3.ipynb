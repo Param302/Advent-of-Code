{
 "cells": [
  {
   "attachments": {},
   "cell_type": "markdown",
   "metadata": {},
   "source": [
    "# Advent of Code - 2022 [🔗](https://adventofcode.com/2022/)\n",
    "\n",
    "### Theme:\n",
    "\n",
    "*Santa's reindeer typically eat regular reindeer food, but they need a lot of magical energy to deliver presents on Christmas. For that, their favorite snack is a special type of star fruit that only grows deep in the jungle. The Elves have brought you on their annual expedition to the grove where the fruit grows.*\n",
    "\n",
    "*To supply enough magical energy, the expedition needs to retrieve a minimum of fifty stars by December 25th. Although the Elves assure you that the grove has plenty of fruit, you decide to grab any fruit you see along the way, just in case.*\n",
    "\n",
    "*Collect stars by solving puzzles. Two puzzles will be made available on each day in the Advent calendar; the second puzzle is unlocked when you complete the first. Each puzzle grants one star. Good luck!*"
   ]
  },
  {
   "attachments": {},
   "cell_type": "markdown",
   "metadata": {},
   "source": [
    "## Day 3: Rucksack Reorganization [🔗](https://adventofcode.com/2022/day/3)\n",
    "\n",
    "### part 1:\n",
    "\n",
    "One Elf has the important job of loading all of the rucksacks with supplies for the jungle journey. Unfortunately, that Elf didn't quite follow the packing instructions, and so a few items now need to be rearranged.\n",
    "\n",
    "Each rucksack has two large **compartments**. All items of a given type are meant to go into exactly one of the two compartments. The Elf that did the packing failed to follow this rule for exactly one item type per rucksack.\n",
    "\n",
    "The Elves have made a list of all of the items currently in each rucksack (your puzzle input), but they need your help finding the errors. Every item type is identified by a single lowercase or uppercase letter (that is, `a` and `A` refer to different types of items).\n",
    "\n",
    "The list of items for each rucksack is given as characters all on a single line. A given rucksack always has the same number of items in each of its two compartments, so the first half of the characters represent items in the first compartment, while the second half of the characters represent items in the second compartment.\n",
    "\n",
    "---\n",
    "\n",
    "<style>\n",
    "    pre {\n",
    "        display: inline;\n",
    "    }\n",
    "</style>\n",
    "<details>\n",
    "    <summary> <font size='5' color=\"#00EEFF\">For example</font> </summary>\n",
    "    <h5>Suppose you have the following list of contents from six rucksacks:</h5>\n",
    "    <pre>vJrwpWtwJgWrhcsFMMfFFhFp\n",
    "jqHRNqRjqzjGDLGLrsFMfFZSrLrFZsSL\n",
    "PmmdzqPrVvPwwTWBwg\n",
    "wMqvLMZHhHMvwLHjbvcjnnSBnvTQFn\n",
    "ttgJtRGJQctTZtZT\n",
    "CrZsJsPPZsGzwwsLwLmpwMDw</pre>\n",
    "    <ul>\n",
    "        <li>The first rucksack contains the items <pre>vJrwpWtwJgWrhcsFMMfFFhFp</pre>, which means its first compartment contains the items <pre>vJrwpWtwJgWr</pre>, while the second compartment contains the items <pre>hcsFMMfFFhFp</pre>. The only item type that appears in both compartments is lowercase <pre>p</pre>.</li>\n",
    "        <li>The second rucksack's compartments contain <pre>jqHRNqRjqzjGDLGL</pre> and <pre>rsFMfFZSrLrFZsSL</pre>. The only item type that appears in both compartments is uppercase <pre>L</pre>.</li>\n",
    "        <li>The third rucksack's compartments contain PmmdzqPrV and vPwwTWBwg; the only common item type is uppercase P.</li>\n",
    "        <li>The fourth rucksack's compartments only share item type <pre>v</pre>.</li>\n",
    "        <li>The fifth rucksack's compartments only share item type <pre>t</pre>.</li>\n",
    "        <li>The sixth rucksack's compartments only share item type <pre>s</pre>.</li>\n",
    "    </ul>\n",
    "    To help prioritize item rearrangement, every item type can be converted to a <b>priority</b>:\n",
    "    <ul>\n",
    "        <li>Lowercase item types <pre>a</pre> through <pre>z</pre> have priorities <pre>1</pre> through <pre>26</pre>.</li>\n",
    "        <li>Uppercase item types <pre>A</pre> through <pre>Z</pre> have priorities <pre>27</pre> through <pre>52</pre>.</li>\n",
    "    <p>In the above example, the priority of the item type that appears in both compartments of each rucksack is <pre>16 (p)</pre>, <pre>38 (L)</pre>, <pre>42 (P)</pre>, <pre>22 (v)</pre>, <pre>20 (t)</pre>, and <pre>19 (s)</pre>; the sum of these is <pre>157</pre>.</p>\n",
    "</details></br>\n",
    "\n",
    "> #### Question:\n",
    "> *Find the item type that appears in both compartments of each rucksack. **What is the sum of the priorities of those item types?***\n",
    "\n",
    "---\n",
    "\n",
    "### part 2:\n",
    "As you finish identifying the misplaced items, the Elves come to you with another issue.\n",
    "\n",
    "For safety, the Elves are divided into groups of three. Every Elf carries a badge that identifies their group. For efficiency, within each group of three Elves, the badge is the **only item type carried by all three Elves**. That is, if a group's badge is item type B, then all three Elves will have item type B somewhere in their rucksack, and at most two of the Elves will be carrying any other item type.\n",
    "\n",
    "The problem is that someone forgot to put this year's updated authenticity sticker on the badges. All of the badges need to be pulled out of the rucksacks so the new authenticity stickers can be attached.\n",
    "\n",
    "Additionally, nobody wrote down which item type corresponds to each group's badges. The only way to tell which item type is the right one is by finding the one item type that is **common between all three Elves** in each group.\n",
    "\n",
    "Every set of three lines in your list corresponds to a single group, but each group can have a different badge item type. So, in the above example, the first group's rucksacks are the first three lines:\n",
    "\n",
    "```\n",
    "vJrwpWtwJgWrhcsFMMfFFhFp\n",
    "jqHRNqRjqzjGDLGLrsFMfFZSrLrFZsSL\n",
    "PmmdzqPrVvPwwTWBwg\n",
    "```\n",
    "\n",
    "And the second group's rucksacks are the next three lines:\n",
    "```\n",
    "wMqvLMZHhHMvwLHjbvcjnnSBnvTQFn\n",
    "ttgJtRGJQctTZtZT\n",
    "CrZsJsPPZsGzwwsLwLmpwMDw\n",
    "```\n",
    "\n",
    "In the first group, the only item type that appears in all three rucksacks is lowercase `r`; this must be their badges. In the second group, their badge item type must be `Z`.\n",
    "\n",
    "Priorities for these items must still be found to organize the sticker attachment efforts: here, they are `18 (r)` for the first group and `52 (Z)` for the second group. The sum of these is `70`.\n",
    "\n",
    "\n",
    "> #### Question:\n",
    "> *Find the item type that corresponds to the badges of each three-Elf group. **What is the sum of the priorities of those item types?***"
   ]
  },
  {
   "attachments": {},
   "cell_type": "markdown",
   "metadata": {},
   "source": [
    "### Importing input data"
   ]
  },
  {
   "cell_type": "code",
   "execution_count": 1,
   "metadata": {},
   "outputs": [],
   "source": [
    "with open(\"./inputs/day3.txt\") as f:\n",
    "    data = [i.strip() for i in f]"
   ]
  },
  {
   "attachments": {},
   "cell_type": "markdown",
   "metadata": {},
   "source": [
    "#### Making prioritizing functions"
   ]
  },
  {
   "cell_type": "code",
   "execution_count": 2,
   "metadata": {},
   "outputs": [],
   "source": [
    "\n",
    "def prioritize_lowercase_items(item): return ord(item)-96\n",
    "def prioritize_uppercase_items(item): return ord(item) % 65 + 27"
   ]
  },
  {
   "attachments": {},
   "cell_type": "markdown",
   "metadata": {},
   "source": [
    "### Part 1:"
   ]
  },
  {
   "cell_type": "code",
   "execution_count": 3,
   "metadata": {},
   "outputs": [],
   "source": [
    "def prioritize_rucksacks_1(all_rucksacks: list[str]) -> int:\n",
    "    sump = 0\n",
    "    for rucksack in all_rucksacks:\n",
    "        n = len(rucksack)\n",
    "        first, second = set(rucksack[:n//2]), set(rucksack[n//2:])  # compartments\n",
    "        common_item = first.intersection(second).pop()\n",
    "        # print(x)\n",
    "        sump += prioritize_lowercase_items(common_item) if common_item.islower() else prioritize_uppercase_items(common_item)\n",
    "    return sump"
   ]
  },
  {
   "cell_type": "code",
   "execution_count": 4,
   "metadata": {},
   "outputs": [
    {
     "name": "stdout",
     "output_type": "stream",
     "text": [
      "1st part solution - 7875\n"
     ]
    }
   ],
   "source": [
    "priorities_sum = prioritize_rucksacks_1(data)\n",
    "print(f\"1st part solution - {priorities_sum}\")"
   ]
  },
  {
   "attachments": {},
   "cell_type": "markdown",
   "metadata": {},
   "source": [
    "### Part 2:"
   ]
  },
  {
   "cell_type": "code",
   "execution_count": 5,
   "metadata": {},
   "outputs": [],
   "source": [
    "def prioritize_group_rucksacks(all_rucksacks: list[str]) -> int:\n",
    "    sump = 0\n",
    "    for ind in range(1, len(all_rucksacks)+1):\n",
    "        if ind % 3 == 0:    # get each group\n",
    "            first_rs = set(all_rucksacks[ind-3])\n",
    "            sec_rs = set(all_rucksacks[ind-2])\n",
    "            third_rs = set(all_rucksacks[ind-1])\n",
    "            sec_rs.intersection_update(third_rs)\n",
    "            common_item = first_rs.intersection(sec_rs).pop()\n",
    "            sump += prioritize_lowercase_items(common_item) if common_item.islower() else prioritize_uppercase_items(common_item)\n",
    "    return sump"
   ]
  },
  {
   "cell_type": "code",
   "execution_count": 6,
   "metadata": {},
   "outputs": [
    {
     "name": "stdout",
     "output_type": "stream",
     "text": [
      "2nd part solution - 2479\n"
     ]
    }
   ],
   "source": [
    "group_priorities_sum = prioritize_group_rucksacks(data)\n",
    "print(f\"2nd part solution - {group_priorities_sum}\")"
   ]
  }
 ],
 "metadata": {
  "kernelspec": {
   "display_name": "Python 3.10.2 ('env': venv)",
   "language": "python",
   "name": "python3"
  },
  "language_info": {
   "codemirror_mode": {
    "name": "ipython",
    "version": 3
   },
   "file_extension": ".py",
   "mimetype": "text/x-python",
   "name": "python",
   "nbconvert_exporter": "python",
   "pygments_lexer": "ipython3",
   "version": "3.10.2"
  },
  "orig_nbformat": 4,
  "vscode": {
   "interpreter": {
    "hash": "2f07d7cca6c58d4ebf04232bbd8a135de9622116acb8031ba94e0fd890a7151f"
   }
  }
 },
 "nbformat": 4,
 "nbformat_minor": 2
}

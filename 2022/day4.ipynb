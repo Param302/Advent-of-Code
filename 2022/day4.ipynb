{
 "cells": [
  {
   "attachments": {},
   "cell_type": "markdown",
   "metadata": {},
   "source": [
    "# Advent of Code - 2022 [🔗](https://adventofcode.com/2022/)\n",
    "\n",
    "### Theme:\n",
    "\n",
    "*Santa's reindeer typically eat regular reindeer food, but they need a lot of magical energy to deliver presents on Christmas. For that, their favorite snack is a special type of star fruit that only grows deep in the jungle. The Elves have brought you on their annual expedition to the grove where the fruit grows.*\n",
    "\n",
    "*To supply enough magical energy, the expedition needs to retrieve a minimum of fifty stars by December 25th. Although the Elves assure you that the grove has plenty of fruit, you decide to grab any fruit you see along the way, just in case.*\n",
    "\n",
    "*Collect stars by solving puzzles. Two puzzles will be made available on each day in the Advent calendar; the second puzzle is unlocked when you complete the first. Each puzzle grants one star. Good luck!*"
   ]
  },
  {
   "attachments": {},
   "cell_type": "markdown",
   "metadata": {},
   "source": [
    "## Day 3: Camp Cleanup [🔗](https://adventofcode.com/2022/day/4)\n",
    "\n",
    "### part 1:\n",
    "\n",
    "Space needs to be cleared before the last supplies can be unloaded from the ships, and so several Elves have been assigned the job of cleaning up sections of the camp. Every section has a unique **ID number**, and each Elf is assigned a range of section IDs.\n",
    "\n",
    "However, as some of the Elves compare their section assignments with each other, they've noticed that many of the assignments **overlap**. To try to quickly find overlaps and reduce duplicated effort, the Elves pair up and make a **big list of the section assignments for each pair** (your puzzle input).\n",
    "\n",
    "---\n",
    "\n",
    "<style>\n",
    "    pre {\n",
    "        display: inline;\n",
    "    }\n",
    "</style>\n",
    "<details>\n",
    "    <summary> <font size='5' color=\"#00EEFF\">For example</font> </summary>\n",
    "    <h5>Consider the following list of section assignment pairs:</h5>\n",
    "    <pre>2-4,6-8\n",
    "2-3,4-5\n",
    "5-7,7-9\n",
    "2-8,3-7\n",
    "6-6,4-6\n",
    "2-6,4-8</pre>\n",
    "    <p>For the first few pairs, this list means:</p>\n",
    "    <ul>\n",
    "        <li>Within the first pair of Elves, the first Elf was assigned sections <pre>2-4</pre> (sections <pre>2</pre>, <pre>3</pre>, and <pre>4</pre>), while the second Elf was assigned sections <pre>6-8</pre> (sections <pre>6</pre>, <pre>7</pre>, <pre>8</pre>).</li>\n",
    "        <li>The Elves in the second pair were each assigned two sections.</li>\n",
    "        <li>The Elves in the third pair were each assigned three sections: one got sections <pre>5</pre>, <pre>6</pre>, and <pre>7</pre>, while the other also got <pre>7</pre>, plus <pre>8</pre> and <pre>9</pre>.</li>\n",
    "    </ul>\n",
    "    <p>This example list uses single-digit section IDs to make it easier to draw; your actual list might contain larger numbers. Visually, these pairs of section assignments look like this:</p>\n",
    "    <pre>.234.....  2-4\n",
    ".....678.  6-8\n",
    "\n",
    ".23......  2-3\n",
    "...45....  4-5\n",
    "\n",
    "....567..  5-7\n",
    "......789  7-9\n",
    "\n",
    ".2345678.  2-8\n",
    "..34567..  3-7\n",
    "\n",
    ".....6...  6-6\n",
    "...456...  4-6\n",
    "\n",
    ".23456...  2-6\n",
    "...45678.  4-8</pre>\n",
    "    <p>Some of the pairs have noticed that one of their assignments fully contains the other. For example, <pre>2-8</pre> fully contains <pre>3-7</pre>, and <pre>6-6</pre> is fully contained by <pre>4-6</pre>. In pairs where one assignment fully contains the other, one Elf in the pair would be exclusively cleaning sections their partner will already be cleaning, so these seem like the most in need of reconsideration. In this example, there are <pre>2</pre> such pairs.</p>\n",
    "</details></br>\n",
    "\n",
    "> #### Question:\n",
    "> **_In how many assignment pairs does one range fully contain the other?_**\n",
    "\n",
    "---\n",
    "\n",
    "### part 2:\n",
    "It seems like there is still quite a bit of duplicate work planned. Instead, the Elves would like to know the number of pairs that **overlap at all**.\n",
    "\n",
    "In the above example, the first two pairs (`2-4,6-8` and `2-3,4-5`) don't overlap, while the remaining four pairs (`5-7,7-9`, `2-8,3-7`, `6-6,4-6`, and `2-6,4-8`) do overlap:\n",
    "\n",
    "- `5-7,7-9` overlaps in a single section, `7`.\n",
    "- `2-8,3-7` overlaps all of the sections `3` through `7`.\n",
    "- `6-6,4-6` overlaps in a single section, `6`.\n",
    "- `2-6,4-8` overlaps in sections `4`, `5`, and `6`.\n",
    "\n",
    "So, in this example, the number of overlapping assignment pairs is **`4`**.\n",
    "\n",
    "\n",
    "> #### Question:\n",
    "> **_In how many assignment pairs do the ranges overlap?_**"
   ]
  },
  {
   "attachments": {},
   "cell_type": "markdown",
   "metadata": {},
   "source": [
    "#### Importing and processing input data\n",
    "- reading each assignment\n",
    "- gathering a set of all values in each pair in each assignment"
   ]
  },
  {
   "cell_type": "code",
   "execution_count": 1,
   "metadata": {},
   "outputs": [],
   "source": [
    "with open(\"./inputs/day4.txt\") as f:\n",
    "    assignment_pairs = [\n",
    "        [\n",
    "            set(range(int(i.split('-')[0]), int(i.split('-')[1])+1))\n",
    "            for i in pair.split(',')\n",
    "        ] \n",
    "        for pair in f\n",
    "        ]"
   ]
  },
  {
   "attachments": {},
   "cell_type": "markdown",
   "metadata": {},
   "source": [
    "#### Part 1:"
   ]
  },
  {
   "cell_type": "code",
   "execution_count": 2,
   "metadata": {},
   "outputs": [],
   "source": [
    "def fully_contains_assignments(assignment_pairs: list[list[set]]) -> int:\n",
    "    n_fully_contains = 0\n",
    "    for i in assignment_pairs:\n",
    "        pair1, pair2 = i\n",
    "        if pair1.issubset(pair2) or pair2.issubset(pair1):\n",
    "            n_fully_contains += 1\n",
    "    return n_fully_contains"
   ]
  },
  {
   "cell_type": "code",
   "execution_count": 3,
   "metadata": {},
   "outputs": [
    {
     "name": "stdout",
     "output_type": "stream",
     "text": [
      "1st part solution - 550\n"
     ]
    }
   ],
   "source": [
    "fully_contains = fully_contains_assignments(assignment_pairs)\n",
    "print(f\"1st part solution - {fully_contains}\")"
   ]
  },
  {
   "attachments": {},
   "cell_type": "markdown",
   "metadata": {},
   "source": [
    "#### Part 2:\n",
    "\n",
    "##### `is_overlap()` function"
   ]
  },
  {
   "cell_type": "code",
   "execution_count": 4,
   "metadata": {},
   "outputs": [],
   "source": [
    "from typing import Iterable\n",
    "\n",
    "def is_overlap(pair1: Iterable, pair2: Iterable) -> bool:\n",
    "    p1_in_p2 = any(i in pair2 for i in pair1)\n",
    "    p2_in_p1 = any(i in pair1 for i in pair2)\n",
    "    return p1_in_p2 and p2_in_p1"
   ]
  },
  {
   "cell_type": "code",
   "execution_count": 5,
   "metadata": {},
   "outputs": [],
   "source": [
    "def overlap_assignments(assignment_pairs: list[list[set]]) -> int:\n",
    "    n_overlaps = 0\n",
    "    for i in assignment_pairs:\n",
    "        pair1, pair2 = i\n",
    "        if is_overlap(pair1, pair2):\n",
    "            n_overlaps += 1\n",
    "    return n_overlaps"
   ]
  },
  {
   "cell_type": "code",
   "execution_count": 6,
   "metadata": {},
   "outputs": [
    {
     "name": "stdout",
     "output_type": "stream",
     "text": [
      "2nd part solution - 931\n"
     ]
    }
   ],
   "source": [
    "overlaps = overlap_assignments(assignment_pairs)\n",
    "print(f\"2nd part solution - {overlaps}\")"
   ]
  }
 ],
 "metadata": {
  "kernelspec": {
   "display_name": "Python 3.10.2 ('env': venv)",
   "language": "python",
   "name": "python3"
  },
  "language_info": {
   "codemirror_mode": {
    "name": "ipython",
    "version": 3
   },
   "file_extension": ".py",
   "mimetype": "text/x-python",
   "name": "python",
   "nbconvert_exporter": "python",
   "pygments_lexer": "ipython3",
   "version": "3.10.2"
  },
  "orig_nbformat": 4,
  "vscode": {
   "interpreter": {
    "hash": "2f07d7cca6c58d4ebf04232bbd8a135de9622116acb8031ba94e0fd890a7151f"
   }
  }
 },
 "nbformat": 4,
 "nbformat_minor": 2
}

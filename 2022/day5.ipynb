{
 "cells": [
  {
   "attachments": {},
   "cell_type": "markdown",
   "metadata": {},
   "source": [
    "# Advent of Code - 2022 [🔗](https://adventofcode.com/2022/)\n",
    "\n",
    "### Theme:\n",
    "\n",
    "*Santa's reindeer typically eat regular reindeer food, but they need a lot of magical energy to deliver presents on Christmas. For that, their favorite snack is a special type of star fruit that only grows deep in the jungle. The Elves have brought you on their annual expedition to the grove where the fruit grows.*\n",
    "\n",
    "*To supply enough magical energy, the expedition needs to retrieve a minimum of fifty stars by December 25th. Although the Elves assure you that the grove has plenty of fruit, you decide to grab any fruit you see along the way, just in case.*\n",
    "\n",
    "*Collect stars by solving puzzles. Two puzzles will be made available on each day in the Advent calendar; the second puzzle is unlocked when you complete the first. Each puzzle grants one star. Good luck!*"
   ]
  },
  {
   "attachments": {},
   "cell_type": "markdown",
   "metadata": {},
   "source": [
    "## Day 5: Supply Stacks [🔗](https://adventofcode.com/2022/day/5)\n",
    "\n",
    "### part 1:\n",
    "\n",
    "The expedition can depart as soon as the final supplies have been unloaded from the ships. Supplies are stored in stacks of marked **crates**, but because the needed supplies are buried under many other crates, the crates need to be rearranged.\n",
    "\n",
    "The ship has a **giant cargo crane** capable of moving crates between stacks. To ensure none of the crates get crushed or fall over, the crane operator will rearrange them in a series of carefully-planned steps. After the crates are rearranged, the desired crates will be at the top of each stack.\n",
    "\n",
    "The Elves don't want to interrupt the crane operator during this delicate procedure, but they forgot to ask her **which** crate will end up where, and they want to be ready to unload them as soon as possible so they can embark.\n",
    "\n",
    "They do, however, have a drawing of the starting stacks of crates **and** the rearrangement procedure (your puzzle input).\n",
    "\n",
    "---\n",
    "\n",
    "<style>\n",
    "    pre {\n",
    "        display: inline;\n",
    "    }\n",
    "</style>\n",
    "<details>\n",
    "    <summary> <font size='5' color=\"#00EEFF\">For example</font> </summary>\n",
    "    <pre>    [D]    \n",
    "[N] [C]    \n",
    "[Z] [M] [P]\n",
    " 1   2   3 \n",
    "\n",
    "move 1 from 2 to 1\n",
    "move 3 from 1 to 3\n",
    "move 2 from 2 to 1\n",
    "move 1 from 1 to 2</pre>\n",
    "    <p>In this example, there are three stacks of crates. Stack <pre>1</pre> contains two crates: crate <pre>Z</pre> is on the bottom, and crate <pre>N</pre> is on top. Stack <pre>2</pre> contains three crates; from bottom to top, they are crates <pre>M</pre>, <pre>C</pre>, and <pre>D</pre>. Finally, stack <pre>3</pre> contains a single crate, <pre>P</pre>.</p>\n",
    "    <p>Then, the rearrangement procedure is given. In each step of the procedure, a quantity of crates is moved from one stack to a different stack. In the first step of the above rearrangement procedure, one crate is moved from stack <pre>2</pre> to stack <pre>1</pre>, resulting in this configuration:</p>\n",
    "    <pre>[D]        \n",
    "[N] [C]    \n",
    "[Z] [M] [P]\n",
    " 1   2   3 </pre>\n",
    "    <p>In the second step, three crates are moved from stack <pre>1</pre> to stack <pre>3</pre>. Crates are moved **one at a time**, so the first crate to be moved (<pre>D</pre>) ends up below the second and third crates:</p>\n",
    "    <pre>        [Z]\n",
    "        [N]\n",
    "    [C] [D]\n",
    "    [M] [P]\n",
    " 1   2   3</pre>\n",
    "    <p>Then, both crates are moved from stack <pre>2</pre> to stack <pre>1</pre>. Again, because crates are moved **one at a time**, crate <pre>C</pre> ends up below crate <pre>M</pre>:</p>\n",
    "    <pre>        [Z]\n",
    "        [N]\n",
    "[M]     [D]\n",
    "[C]     [P]\n",
    " 1   2   3</pre>\n",
    "    <p>Finally, one crate is moved from stack <pre>1</pre> to stack <pre>2</pre>:</p>\n",
    "    <pre>        [Z]\n",
    "        [N]\n",
    "        [D]\n",
    "[C] [M] [P]\n",
    " 1   2   3</pre>\n",
    "    <p>The Elves just need to know **which crate will end up on top of each stack**; in this example, the top crates are <pre>C</pre> in stack <pre>1</pre>, <pre>M</pre> in stack <pre>2</pre>, and <pre>Z</pre> in stack <pre>3</pre>, so you should combine these together and give the Elves the message <b><pre>CMZ</pre></b>.</p>\n",
    "</details></br>\n",
    "\n",
    "> #### Question:\n",
    "> **_After the rearrangement procedure completes, what crate ends up on top of each stack?_**\n",
    "\n",
    "---\n",
    "\n",
    "### part 2:\n",
    "As you watch the crane operator expertly rearrange the crates, you notice the process isn't following your prediction.\n",
    "\n",
    "Some mud was covering the writing on the side of the crane, and you quickly wipe it away. The crane isn't a CrateMover `9000` - it's a **CrateMover `9001`**.\n",
    "\n",
    "The CrateMover `9001` is notable for many new and exciting features: air conditioning, leather seats, an extra cup holder, and **the ability to pick up and move multiple crates at once.**\n",
    "\n",
    "Again considering the example above, the crates begin in the same configuration:\n",
    "\n",
    "```\n",
    "    [D]    \n",
    "[N] [C]    \n",
    "[Z] [M] [P]\n",
    " 1   2   3\n",
    "```\n",
    "\n",
    "Moving a single crate from stack `2` to stack `1` behaves the same as before:\n",
    "\n",
    "```\n",
    "[D]        \n",
    "[N] [C]    \n",
    "[Z] [M] [P]\n",
    " 1   2   3 \n",
    "```\n",
    "\n",
    "However, the action of moving three crates from stack `1` to stack `3` means that those three moved crates **stay in the same order**, resulting in this new configuration:\n",
    "\n",
    "```\n",
    "        [D]\n",
    "        [N]\n",
    "    [C] [Z]\n",
    "    [M] [P]\n",
    " 1   2   3\n",
    "```\n",
    "\n",
    "Next, as both crates are moved from stack `2` to stack `1`, they **retain their order** as well:\n",
    "\n",
    "```\n",
    "        [D]\n",
    "        [N]\n",
    "[C]     [Z]\n",
    "[M]     [P]\n",
    " 1   2   3\n",
    "```\n",
    "\n",
    "Finally, a single crate is s till moved from stack `1` to stack `2`, but now it's crate `C` that gets moved:\n",
    "\n",
    "```\n",
    "        [D]\n",
    "        [N]\n",
    "        [Z]\n",
    "[M] [C] [P]\n",
    " 1   2   3\n",
    "```\n",
    "\n",
    "In this example, the CrateMover 9001 has put the crates in a totally different order: **`MCD`**.\n",
    "\n",
    "> #### Question:\n",
    "> _Before the rearrangement process finishes, update your simulation so that the Elves know where they should stand to be ready to unload the final supplies. **After the rearrangement procedure completes, what crate ends up on top of each stack?In how many assignment pairs do the ranges overlap?_**"
   ]
  },
  {
   "attachments": {},
   "cell_type": "markdown",
   "metadata": {},
   "source": [
    "#### Importing input data\n",
    "- `temp_crates` holds all the crates\n",
    "- `moves` list is having all moves as a sublist:\n",
    "- - `n crates` (`0`) how many crates to move\n",
    "- - `from_stack` (`1`) from which stack to move\n",
    "- - `to_stack` (`2`) to which stack to move"
   ]
  },
  {
   "cell_type": "code",
   "execution_count": 1,
   "metadata": {},
   "outputs": [],
   "source": [
    "with open(\"./inputs/day5.txt\") as f:\n",
    "    temp_crates = []\n",
    "    for i in f:\n",
    "        if i == \"\\n\":\n",
    "            break\n",
    "        temp_crates.append(i[:-1])\n",
    "\n",
    "    moves = []      # [n crates, from, to]\n",
    "    for move in f:\n",
    "        _, crates, _, from_stack, _, to_stack = move.strip().split()\n",
    "        moves.append([int(crates), int(from_stack), int(to_stack)])"
   ]
  },
  {
   "attachments": {},
   "cell_type": "markdown",
   "metadata": {},
   "source": [
    "#### Preprocessing data\n",
    "- arraging all crates in their stacks properly"
   ]
  },
  {
   "cell_type": "code",
   "execution_count": 2,
   "metadata": {},
   "outputs": [],
   "source": [
    "temp_crates.pop()   # removing the last element i.e. no. of stacks\n",
    "\n",
    "# replacing empty crate slots with 0\n",
    "for i in range(len(temp_crates)):\n",
    "    temp_crates[i] = temp_crates[i].replace(' '*4, \" 0 \").split()\n",
    "\n",
    "# shaping it to a square matrix\n",
    "temp_crates.append(None) if len(temp_crates) < len(temp_crates[0]) else ...\n"
   ]
  },
  {
   "cell_type": "code",
   "execution_count": 3,
   "metadata": {},
   "outputs": [],
   "source": [
    "# arranging all crates in their stacks\n",
    "stacks = {}\n",
    "stack_no = 1\n",
    "for i in range(len(temp_crates[i])):\n",
    "    for j in range(len(temp_crates)-1, -1, -1):\n",
    "        stacks.setdefault(stack_no, [])\n",
    "        if temp_crates[j] is None:\n",
    "            continue\n",
    "        if temp_crates[j][i]=='0':\n",
    "            continue\n",
    "        stacks[stack_no].append(temp_crates[j][i][1])\n",
    "    stack_no += 1"
   ]
  },
  {
   "attachments": {},
   "cell_type": "markdown",
   "metadata": {},
   "source": [
    "#### Part 1:"
   ]
  },
  {
   "cell_type": "code",
   "execution_count": 4,
   "metadata": {},
   "outputs": [],
   "source": [
    "def move_crates(crates, stacks, from_stack, *, reverse=False):\n",
    "    moved_crates = []\n",
    "    for n in range(crates):\n",
    "        moved_crates.append(stacks[from_stack].pop())\n",
    "        # print(stacks)\n",
    "    return moved_crates if not reverse else moved_crates[::-1]"
   ]
  },
  {
   "cell_type": "code",
   "execution_count": 5,
   "metadata": {},
   "outputs": [],
   "source": [
    "def arrange_crates(moves, stacks, *, reverse=False):\n",
    "    for move in moves:\n",
    "        crates, from_stack, to_stack = move\n",
    "        moved_crates = move_crates(crates, stacks, from_stack, reverse=reverse)\n",
    "        stacks[to_stack].extend(moved_crates)\n",
    "    return stacks"
   ]
  },
  {
   "cell_type": "code",
   "execution_count": 6,
   "metadata": {},
   "outputs": [
    {
     "name": "stdout",
     "output_type": "stream",
     "text": [
      "Part 1 solution - TWSGQHNHL\n"
     ]
    }
   ],
   "source": [
    "from copy import deepcopy\n",
    "\n",
    "moved_crates_1 = arrange_crates(moves, deepcopy(stacks))\n",
    "top_stacks_1 = ''.join(moved_crates_1[i][-1] for i in moved_crates_1)\n",
    "print(f\"Part 1 solution - {top_stacks_1}\")"
   ]
  },
  {
   "attachments": {},
   "cell_type": "markdown",
   "metadata": {},
   "source": [
    "#### Part 2:"
   ]
  },
  {
   "cell_type": "code",
   "execution_count": 7,
   "metadata": {},
   "outputs": [
    {
     "name": "stdout",
     "output_type": "stream",
     "text": [
      "Part 2 solution - JNRSCDWPP\n"
     ]
    }
   ],
   "source": [
    "moved_crates_2 = arrange_crates(moves, deepcopy(stacks), reverse=True)\n",
    "top_stacks_2 = ''.join(moved_crates_2[i][-1] for i in moved_crates_2)\n",
    "print(f\"Part 2 solution - {top_stacks_2}\")"
   ]
  }
 ],
 "metadata": {
  "kernelspec": {
   "display_name": "Python 3.10.2 ('env': venv)",
   "language": "python",
   "name": "python3"
  },
  "language_info": {
   "codemirror_mode": {
    "name": "ipython",
    "version": 3
   },
   "file_extension": ".py",
   "mimetype": "text/x-python",
   "name": "python",
   "nbconvert_exporter": "python",
   "pygments_lexer": "ipython3",
   "version": "3.10.2"
  },
  "orig_nbformat": 4,
  "vscode": {
   "interpreter": {
    "hash": "2f07d7cca6c58d4ebf04232bbd8a135de9622116acb8031ba94e0fd890a7151f"
   }
  }
 },
 "nbformat": 4,
 "nbformat_minor": 2
}

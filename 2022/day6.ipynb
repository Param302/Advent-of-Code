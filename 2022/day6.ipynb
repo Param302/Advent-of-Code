{
 "cells": [
  {
   "attachments": {},
   "cell_type": "markdown",
   "metadata": {},
   "source": [
    "# Advent of Code - 2022 [🔗](https://adventofcode.com/2022/)\n",
    "\n",
    "### Theme:\n",
    "\n",
    "*Santa's reindeer typically eat regular reindeer food, but they need a lot of magical energy to deliver presents on Christmas. For that, their favorite snack is a special type of star fruit that only grows deep in the jungle. The Elves have brought you on their annual expedition to the grove where the fruit grows.*\n",
    "\n",
    "*To supply enough magical energy, the expedition needs to retrieve a minimum of fifty stars by December 25th. Although the Elves assure you that the grove has plenty of fruit, you decide to grab any fruit you see along the way, just in case.*\n",
    "\n",
    "*Collect stars by solving puzzles. Two puzzles will be made available on each day in the Advent calendar; the second puzzle is unlocked when you complete the first. Each puzzle grants one star. Good luck!*"
   ]
  },
  {
   "attachments": {},
   "cell_type": "markdown",
   "metadata": {},
   "source": [
    "## Day 6: Turning Trouble [🔗](https://adventofcode.com/2022/day/6)\n",
    "\n",
    "### part 1:\n",
    "\n",
    "The preparations are finally complete; you and the Elves leave camp on foot and begin to make your way toward the **star** fruit grove.\n",
    "\n",
    "As you move through the dense undergrowth, one of the Elves gives you a handheld **device**. He says that it has many fancy features, but the most important one to set up right now is the **communication system**.\n",
    "\n",
    "However, because he's heard you have [significant](https://adventofcode.com/2016/day/6) [experience](https://adventofcode.com/2016/day/25) [dealing](https://adventofcode.com/2019/day/7) [with](https://adventofcode.com/2019/day/9) [signal-based](https://adventofcode.com/2019/day/16) [systems](https://adventofcode.com/2021/day/25), he convinced the other Elves that it would be okay to give you their one malfunctioning device - surely you'll have no problem fixing it.\n",
    "\n",
    "As if inspired by comedic timing, the device emits a few colorful sparks.\n",
    "\n",
    "To be able to communicate with the Elves, the device needs to **lock on to their signal**. The signal is a series of seemingly-random characters that the device receives one at a time.\n",
    "\n",
    "To fix the communication system, you need to add a subroutine to the device that detects a **start-of-packet marker** in the datastream. In the protocol being used by the Elves, the start of a packet is indicated by a sequence of **four characters that are all different**.\n",
    "\n",
    "The device will send your subroutine a datastream buffer (your puzzle input); your subroutine needs to identify the first position where the four most recently received characters were all different. Specifically, it needs to report the number of characters from the beginning of the buffer to the end of the first such four-character marker.\n",
    "\n",
    "---\n",
    "\n",
    "<style>\n",
    "    pre {\n",
    "        display: inline;\n",
    "    }\n",
    "</style>\n",
    "<details>\n",
    "    <summary> <font size='5' color=\"#00EEFF\">For example</font> </summary>\n",
    "    <p>Suppose you recieve the following datastream buffer:</p>\n",
    "    <pre>mjqjpqmgbljsphdztnvjfqwrcgsmlb</pre>\n",
    "    <p>After the first three characters (<pre>mjq</pre>) have been received, there haven't been enough characters received yet to find the marker. The first time a marker could occur is after the fourth character is received, making the most recent four characters <pre>mjqj</pre>. Because <pre>j</pre> is repeated, this isn't a marker.</p>\n",
    "    <p>The first time a marker appears is after the <b>seventh</b> character arrives. Once it does, the last four characters received are jpqm, which are all different. In this case, your subroutine should report the value 7, because the first start-of-packet marker is complete after 7 characters have been processed.</p>\n",
    "    <p>Here are a few more examples:</p>\n",
    "    <ul>\n",
    "        <li><pre>bvwbjplbgvbhsrlpgdmjqwftvncz</pre>: first marker after character <pre>5</pre></li>\n",
    "        <li><pre>nppdvjthqldpwncqszvftbrmjlhg</pre>: first marker after character <pre>6</pre></li>\n",
    "        <li><pre>nznrnfrfntjfmvfwmzdfjlvtqnbhcprsg</pre>: first marker after character <pre>10</pre></li>\n",
    "        <li><pre>zcfzfwzzqfrljwzlrfnpqdbhtmscgvjw</pre>: first marker after character <pre>11</pre></li>\n",
    "    </ul>\n",
    "</details></br>\n",
    "\n",
    "> #### Question:\n",
    "> **_How many characters need to be processed before the first start-of-packet marker is detected?_**\n",
    "\n",
    "---\n",
    "\n",
    "### part 2:\n",
    "Your device's communication system is correctly detecting packets, but still isn't working. It looks like it also needs to look for **messages**.\n",
    "\n",
    "A **start-of-message marker** is just like a start-of-packet marker, except it consists of **`14` distinct characters** rather than `4`.\n",
    "\n",
    "Here are the first positions of start-of-message markers for all of the above examples:\n",
    "- `mjqjpqmgbljsphdztnvjfqwrcgsmlb`: first marker after character `19`\n",
    "- `bvwbjplbgvbhsrlpgdmjqwftvncz`: first marker after character `23`\n",
    "- `nppdvjthqldpwncqszvftbrmjlhg`: first marker after character `23`\n",
    "- `nznrnfrfntjfmvfwmzdfjlvtqnbhcprsg`: first marker after character `29`\n",
    "- `zcfzfwzzqfrljwzlrfnpqdbhtmscgvjw`: first marker after character `26`\n",
    "\n",
    "\n",
    "> #### Question:\n",
    "> **_How many characters need to be processed before the first start-of-message marker is detected?_**\n"
   ]
  },
  {
   "attachments": {},
   "cell_type": "markdown",
   "metadata": {},
   "source": [
    "#### Importing input data"
   ]
  },
  {
   "cell_type": "code",
   "execution_count": 1,
   "metadata": {},
   "outputs": [],
   "source": [
    "with open(\"./inputs/day6.txt\") as f:\n",
    "    data = f.read().strip()"
   ]
  },
  {
   "attachments": {},
   "cell_type": "markdown",
   "metadata": {},
   "source": [
    "#### `get_marker_position()` function\n",
    "- takes the datastream - `buffer`\n",
    "- and the length of *start-of-message marker* - `length`\n",
    "- returns the _first position of **start-of-message marker**_"
   ]
  },
  {
   "cell_type": "code",
   "execution_count": 2,
   "metadata": {},
   "outputs": [],
   "source": [
    "def get_marker_position(buffer:str, length:int) -> int:\n",
    "    for i in range(len(buffer)-length):\n",
    "        s = set(buffer[i:i+length])\n",
    "        if len(s) == length:\n",
    "            return i+length"
   ]
  },
  {
   "attachments": {},
   "cell_type": "markdown",
   "metadata": {},
   "source": [
    "#### part 1:\n",
    "- `4` distinct characters"
   ]
  },
  {
   "cell_type": "code",
   "execution_count": 3,
   "metadata": {},
   "outputs": [
    {
     "name": "stdout",
     "output_type": "stream",
     "text": [
      "1st part solution - 1760\n"
     ]
    }
   ],
   "source": [
    "marker_position_first_4 = get_marker_position(data, 4)\n",
    "print(f\"1st part solution - {marker_position_first_4}\")"
   ]
  },
  {
   "attachments": {},
   "cell_type": "markdown",
   "metadata": {},
   "source": [
    "#### part 2:\n",
    "- `14` distinct characters"
   ]
  },
  {
   "cell_type": "code",
   "execution_count": 4,
   "metadata": {},
   "outputs": [
    {
     "name": "stdout",
     "output_type": "stream",
     "text": [
      "2nd part solution - 2974\n"
     ]
    }
   ],
   "source": [
    "marker_position_first_14 = get_marker_position(data, 14)\n",
    "print(f\"2nd part solution - {marker_position_first_14}\")"
   ]
  }
 ],
 "metadata": {
  "kernelspec": {
   "display_name": "Python 3.10.2 ('env': venv)",
   "language": "python",
   "name": "python3"
  },
  "language_info": {
   "codemirror_mode": {
    "name": "ipython",
    "version": 3
   },
   "file_extension": ".py",
   "mimetype": "text/x-python",
   "name": "python",
   "nbconvert_exporter": "python",
   "pygments_lexer": "ipython3",
   "version": "3.10.2"
  },
  "orig_nbformat": 4,
  "vscode": {
   "interpreter": {
    "hash": "2f07d7cca6c58d4ebf04232bbd8a135de9622116acb8031ba94e0fd890a7151f"
   }
  }
 },
 "nbformat": 4,
 "nbformat_minor": 2
}
